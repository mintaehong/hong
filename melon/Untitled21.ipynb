{
 "cells": [
  {
   "cell_type": "code",
   "execution_count": 1,
   "id": "c1ac91c3",
   "metadata": {},
   "outputs": [],
   "source": [
    "import re\n",
    "from time import sleep\n",
    "from selenium import webdriver\n",
    "from pymongo import MongoClient\n",
    "from selenium.webdriver.common.by import By\n",
    "from selenium.webdriver.common.keys import Keys"
   ]
  },
  {
   "cell_type": "code",
   "execution_count": 2,
   "id": "453576f8",
   "metadata": {},
   "outputs": [],
   "source": [
    "client = MongoClient(host='localhost', port=27017)\n",
    "\n",
    "db = client['melon']"
   ]
  },
  {
   "cell_type": "code",
   "execution_count": 3,
   "id": "8d724331",
   "metadata": {},
   "outputs": [
    {
     "name": "stderr",
     "output_type": "stream",
     "text": [
      "C:\\Users\\min\\AppData\\Local\\Temp\\ipykernel_12168\\424048449.py:10: DeprecationWarning: executable_path has been deprecated, please pass in a Service object\n",
      "  driver = webdriver.Chrome('C:/Users/min/chromedriver.exe', chrome_options=chrome_options)\n",
      "C:\\Users\\min\\AppData\\Local\\Temp\\ipykernel_12168\\424048449.py:10: DeprecationWarning: use options instead of chrome_options\n",
      "  driver = webdriver.Chrome('C:/Users/min/chromedriver.exe', chrome_options=chrome_options)\n"
     ]
    },
    {
     "ename": "ElementNotInteractableException",
     "evalue": "Message: element not interactable\n  (Session info: headless chrome=109.0.5414.120)\nStacktrace:\nBacktrace:\n\t(No symbol) [0x011C6643]\n\t(No symbol) [0x0115BE21]\n\t(No symbol) [0x0105D960]\n\t(No symbol) [0x010923A7]\n\t(No symbol) [0x01086B13]\n\t(No symbol) [0x010AFD7C]\n\t(No symbol) [0x0108641F]\n\t(No symbol) [0x010B00D4]\n\t(No symbol) [0x010C6B09]\n\t(No symbol) [0x010AFB76]\n\t(No symbol) [0x010849C1]\n\t(No symbol) [0x01085E5D]\n\tGetHandleVerifier [0x0143A142+2497106]\n\tGetHandleVerifier [0x014685D3+2686691]\n\tGetHandleVerifier [0x0146BB9C+2700460]\n\tGetHandleVerifier [0x01273B10+635936]\n\t(No symbol) [0x01164A1F]\n\t(No symbol) [0x0116A418]\n\t(No symbol) [0x0116A505]\n\t(No symbol) [0x0117508B]\n\tBaseThreadInitThunk [0x75DA00F9+25]\n\tRtlGetAppContainerNamedObjectPath [0x77E27BBE+286]\n\tRtlGetAppContainerNamedObjectPath [0x77E27B8E+238]\n",
     "output_type": "error",
     "traceback": [
      "\u001b[1;31m---------------------------------------------------------------------------\u001b[0m",
      "\u001b[1;31mElementNotInteractableException\u001b[0m           Traceback (most recent call last)",
      "Cell \u001b[1;32mIn[3], line 50\u001b[0m\n\u001b[0;32m     48\u001b[0m     \u001b[38;5;28;01mpass\u001b[39;00m\n\u001b[0;32m     49\u001b[0m \u001b[38;5;28;01melse\u001b[39;00m:\n\u001b[1;32m---> 50\u001b[0m     \u001b[43mdriver\u001b[49m\u001b[38;5;241;43m.\u001b[39;49m\u001b[43mfind_element\u001b[49m\u001b[43m(\u001b[49m\u001b[43mBy\u001b[49m\u001b[38;5;241;43m.\u001b[39;49m\u001b[43mCSS_SELECTOR\u001b[49m\u001b[43m,\u001b[49m\u001b[43m \u001b[49m\u001b[38;5;124;43mf\u001b[39;49m\u001b[38;5;124;43m'\u001b[39;49m\u001b[38;5;124;43m#pageObjNavgation > div > span > a:nth-child(\u001b[39;49m\u001b[38;5;132;43;01m{\u001b[39;49;00m\u001b[43midx_page_2\u001b[49m\u001b[38;5;132;43;01m}\u001b[39;49;00m\u001b[38;5;124;43m)\u001b[39;49m\u001b[38;5;124;43m'\u001b[39;49m\u001b[43m)\u001b[49m\u001b[38;5;241;43m.\u001b[39;49m\u001b[43mclick\u001b[49m\u001b[43m(\u001b[49m\u001b[43m)\u001b[49m\n\u001b[0;32m     51\u001b[0m sleep(\u001b[38;5;241m2\u001b[39m)\n\u001b[0;32m     52\u001b[0m list_count \u001b[38;5;241m=\u001b[39m \u001b[38;5;28mlen\u001b[39m(driver\u001b[38;5;241m.\u001b[39mfind_elements(By\u001b[38;5;241m.\u001b[39mCSS_SELECTOR, \u001b[38;5;124mf\u001b[39m\u001b[38;5;124m'\u001b[39m\u001b[38;5;124m#frm > div > table > tbody > tr\u001b[39m\u001b[38;5;124m'\u001b[39m))\n",
      "File \u001b[1;32m~\\anaconda3\\envs\\min\\lib\\site-packages\\selenium\\webdriver\\remote\\webelement.py:93\u001b[0m, in \u001b[0;36mWebElement.click\u001b[1;34m(self)\u001b[0m\n\u001b[0;32m     91\u001b[0m \u001b[38;5;28;01mdef\u001b[39;00m \u001b[38;5;21mclick\u001b[39m(\u001b[38;5;28mself\u001b[39m) \u001b[38;5;241m-\u001b[39m\u001b[38;5;241m>\u001b[39m \u001b[38;5;28;01mNone\u001b[39;00m:\n\u001b[0;32m     92\u001b[0m \u001b[38;5;250m    \u001b[39m\u001b[38;5;124;03m\"\"\"Clicks the element.\"\"\"\u001b[39;00m\n\u001b[1;32m---> 93\u001b[0m     \u001b[38;5;28;43mself\u001b[39;49m\u001b[38;5;241;43m.\u001b[39;49m\u001b[43m_execute\u001b[49m\u001b[43m(\u001b[49m\u001b[43mCommand\u001b[49m\u001b[38;5;241;43m.\u001b[39;49m\u001b[43mCLICK_ELEMENT\u001b[49m\u001b[43m)\u001b[49m\n",
      "File \u001b[1;32m~\\anaconda3\\envs\\min\\lib\\site-packages\\selenium\\webdriver\\remote\\webelement.py:403\u001b[0m, in \u001b[0;36mWebElement._execute\u001b[1;34m(self, command, params)\u001b[0m\n\u001b[0;32m    401\u001b[0m     params \u001b[38;5;241m=\u001b[39m {}\n\u001b[0;32m    402\u001b[0m params[\u001b[38;5;124m\"\u001b[39m\u001b[38;5;124mid\u001b[39m\u001b[38;5;124m\"\u001b[39m] \u001b[38;5;241m=\u001b[39m \u001b[38;5;28mself\u001b[39m\u001b[38;5;241m.\u001b[39m_id\n\u001b[1;32m--> 403\u001b[0m \u001b[38;5;28;01mreturn\u001b[39;00m \u001b[38;5;28;43mself\u001b[39;49m\u001b[38;5;241;43m.\u001b[39;49m\u001b[43m_parent\u001b[49m\u001b[38;5;241;43m.\u001b[39;49m\u001b[43mexecute\u001b[49m\u001b[43m(\u001b[49m\u001b[43mcommand\u001b[49m\u001b[43m,\u001b[49m\u001b[43m \u001b[49m\u001b[43mparams\u001b[49m\u001b[43m)\u001b[49m\n",
      "File \u001b[1;32m~\\anaconda3\\envs\\min\\lib\\site-packages\\selenium\\webdriver\\remote\\webdriver.py:440\u001b[0m, in \u001b[0;36mWebDriver.execute\u001b[1;34m(self, driver_command, params)\u001b[0m\n\u001b[0;32m    438\u001b[0m response \u001b[38;5;241m=\u001b[39m \u001b[38;5;28mself\u001b[39m\u001b[38;5;241m.\u001b[39mcommand_executor\u001b[38;5;241m.\u001b[39mexecute(driver_command, params)\n\u001b[0;32m    439\u001b[0m \u001b[38;5;28;01mif\u001b[39;00m response:\n\u001b[1;32m--> 440\u001b[0m     \u001b[38;5;28;43mself\u001b[39;49m\u001b[38;5;241;43m.\u001b[39;49m\u001b[43merror_handler\u001b[49m\u001b[38;5;241;43m.\u001b[39;49m\u001b[43mcheck_response\u001b[49m\u001b[43m(\u001b[49m\u001b[43mresponse\u001b[49m\u001b[43m)\u001b[49m\n\u001b[0;32m    441\u001b[0m     response[\u001b[38;5;124m\"\u001b[39m\u001b[38;5;124mvalue\u001b[39m\u001b[38;5;124m\"\u001b[39m] \u001b[38;5;241m=\u001b[39m \u001b[38;5;28mself\u001b[39m\u001b[38;5;241m.\u001b[39m_unwrap_value(response\u001b[38;5;241m.\u001b[39mget(\u001b[38;5;124m\"\u001b[39m\u001b[38;5;124mvalue\u001b[39m\u001b[38;5;124m\"\u001b[39m, \u001b[38;5;28;01mNone\u001b[39;00m))\n\u001b[0;32m    442\u001b[0m     \u001b[38;5;28;01mreturn\u001b[39;00m response\n",
      "File \u001b[1;32m~\\anaconda3\\envs\\min\\lib\\site-packages\\selenium\\webdriver\\remote\\errorhandler.py:245\u001b[0m, in \u001b[0;36mErrorHandler.check_response\u001b[1;34m(self, response)\u001b[0m\n\u001b[0;32m    243\u001b[0m         alert_text \u001b[38;5;241m=\u001b[39m value[\u001b[38;5;124m\"\u001b[39m\u001b[38;5;124malert\u001b[39m\u001b[38;5;124m\"\u001b[39m]\u001b[38;5;241m.\u001b[39mget(\u001b[38;5;124m\"\u001b[39m\u001b[38;5;124mtext\u001b[39m\u001b[38;5;124m\"\u001b[39m)\n\u001b[0;32m    244\u001b[0m     \u001b[38;5;28;01mraise\u001b[39;00m exception_class(message, screen, stacktrace, alert_text)  \u001b[38;5;66;03m# type: ignore[call-arg]  # mypy is not smart enough here\u001b[39;00m\n\u001b[1;32m--> 245\u001b[0m \u001b[38;5;28;01mraise\u001b[39;00m exception_class(message, screen, stacktrace)\n",
      "\u001b[1;31mElementNotInteractableException\u001b[0m: Message: element not interactable\n  (Session info: headless chrome=109.0.5414.120)\nStacktrace:\nBacktrace:\n\t(No symbol) [0x011C6643]\n\t(No symbol) [0x0115BE21]\n\t(No symbol) [0x0105D960]\n\t(No symbol) [0x010923A7]\n\t(No symbol) [0x01086B13]\n\t(No symbol) [0x010AFD7C]\n\t(No symbol) [0x0108641F]\n\t(No symbol) [0x010B00D4]\n\t(No symbol) [0x010C6B09]\n\t(No symbol) [0x010AFB76]\n\t(No symbol) [0x010849C1]\n\t(No symbol) [0x01085E5D]\n\tGetHandleVerifier [0x0143A142+2497106]\n\tGetHandleVerifier [0x014685D3+2686691]\n\tGetHandleVerifier [0x0146BB9C+2700460]\n\tGetHandleVerifier [0x01273B10+635936]\n\t(No symbol) [0x01164A1F]\n\t(No symbol) [0x0116A418]\n\t(No symbol) [0x0116A505]\n\t(No symbol) [0x0117508B]\n\tBaseThreadInitThunk [0x75DA00F9+25]\n\tRtlGetAppContainerNamedObjectPath [0x77E27BBE+286]\n\tRtlGetAppContainerNamedObjectPath [0x77E27B8E+238]\n"
     ]
    }
   ],
   "source": [
    "# 크롬 드라이버 설정\n",
    "chrome_options = webdriver.ChromeOptions()\n",
    "\n",
    "#지정한 user-agent로 설정합니다.\n",
    "user_agent = \"Mozilla/5.0 (Windows NT 10.0; Win64; x64) AppleWebKit/537.36 (KHTML, like Gecko) Chrome/109.0.0.0 Safari/537.36\"\n",
    "chrome_options.add_argument('headless')\n",
    "chrome_options.add_argument('user-agent=' + user_agent)\n",
    "chrome_options.add_argument('--blink-settings=imagesEnabled=false') \n",
    "chrome_options.add_argument(\"start-maximized\")\n",
    "driver = webdriver.Chrome('C:/Users/min/chromedriver.exe', chrome_options=chrome_options)\n",
    "url = 'https://www.melon.com/dj/themegenre/djthemegenre_list.htm'\n",
    "driver.get(url)\n",
    "driver.implicitly_wait(10)\n",
    "for idx_tag in range(1,28):#1,28\n",
    "    sleep(3)\n",
    "    theme = driver.find_element(By.CSS_SELECTOR, f'#tab1 > li:nth-child({idx_tag}) > a > span').text\n",
    "    if theme == 'ASMR' or theme == '라운지':\n",
    "        continue\n",
    "    driver.find_element(By.CSS_SELECTOR, f'#tab1 > li:nth-child({idx_tag}) > a > span').click()\n",
    "    driver.implicitly_wait(10)\n",
    "    for idx_page_1 in range(5,6):#1,11\n",
    "        sleep(5)\n",
    "        if idx_page_1 == 1:\n",
    "            pass\n",
    "        else:\n",
    "            driver.find_element(By.CSS_SELECTOR, f'#pageObjNavgation > div > span > a:nth-child({idx_page_1})').click()\n",
    "            sleep(3)\n",
    "        for idx_pl in range(1,21):#1,21\n",
    "            back_url = driver.current_url\n",
    "            sleep(2)\n",
    "            driver.find_element(By.CSS_SELECTOR, f'#djPlylstList > div > ul > li:nth-child({idx_pl}) > div.entry > div.info > a.ellipsis.album_name').click()\n",
    "            sleep(2)\n",
    "            summary = driver.find_element(By.CSS_SELECTOR, f'#d_video_summary > div').text\n",
    "            if '팝' in summary  or '피아노' in summary or '재즈' in summary or '해외' in summary or 'pop'.casefold() in summary.casefold() or 'edm'.casefold() in summary.casefold() or 'asmr'.casefold() in summary.casefold():\n",
    "                if '케이팝' in summary or 'k-pop'.casefold() in summary.casefold() or 'kpop'.casefold() in summary.casefold():\n",
    "                    pass\n",
    "                else:\n",
    "                    driver.back()\n",
    "                    continue\n",
    "            tag = []\n",
    "            for t in summary.replace('\\n','').split(\" \"):\n",
    "                if  t[0] == '#':\n",
    "                    tag.append(t.replace('#',''))\n",
    "            page = len(driver.find_elements(By.CSS_SELECTOR, f'#pageObjNavgation > div > span > a'))+1\n",
    "            for idx_page_2 in range(1, page+1):\n",
    "                sleep(1)\n",
    "                if idx_page_2 == 1:\n",
    "                    pass\n",
    "                else:\n",
    "                    driver.find_element(By.CSS_SELECTOR, f'#pageObjNavgation > div > span > a:nth-child({idx_page_2})').click()\n",
    "                sleep(2)\n",
    "                list_count = len(driver.find_elements(By.CSS_SELECTOR, f'#frm > div > table > tbody > tr'))\n",
    "                pass_music = 0\n",
    "                for idx_list in range(1, list_count+1):\n",
    "                    driver.implicitly_wait(10)\n",
    "                    title = driver.find_element(By.CSS_SELECTOR, f'#frm > div > table > tbody > tr:nth-child({idx_list}) > td:nth-child(5) > div > div > div.ellipsis.rank01 > span > a').text\n",
    "                    singer = driver.find_element(By.CSS_SELECTOR, f'#frm > div > table > tbody > tr:nth-child({idx_list}) > td:nth-child(5) > div > div > div.ellipsis.rank02').text\n",
    "                    if re.compile('[^ㄱ-ㅣ가-힣]').sub('', title+singer) == '':\n",
    "                        pass_music += 1\n",
    "                        continue\n",
    "                    if db.song.find_one({'title':title,'singer':singer}):\n",
    "                        db.song.update_one({'title':title,'singer':singer},{'$addToSet' : {'tag' : {'$each':tag}}})\n",
    "                        continue\n",
    "                    driver.find_element(By.CSS_SELECTOR, f'#frm > div > table > tbody > tr:nth-child({idx_list}) > td:nth-child(4) > div > a').click()\n",
    "                    sleep(1)\n",
    "                    genre = driver.find_element(By.CSS_SELECTOR, f'#downloadfrm > div > div > div.entry > div.meta > dl > dd:nth-child(6)').text\n",
    "                    try:\n",
    "                        lyrics = driver.find_element(By.CSS_SELECTOR, f'#d_video_summary').text\n",
    "                    except:\n",
    "                        driver.back()\n",
    "                        pass_music += 1\n",
    "                        if pass_music > 10:\n",
    "                            break\n",
    "                        else:\n",
    "                            continue\n",
    "                    info = {'title' : title , 'singer' : singer, 'genre' : genre, 'lyrics' : lyrics}\n",
    "                    db.song.insert_one(info)\n",
    "                    db.song.update_one(info,{'$addToSet' : {'tag' : {'$each':tag}}})\n",
    "                    driver.back()\n",
    "            driver.get(back_url)\n",
    "    driver.get(url)\n",
    "driver.quit()\n"
   ]
  },
  {
   "cell_type": "code",
   "execution_count": 4,
   "id": "d60ac11e",
   "metadata": {},
   "outputs": [
    {
     "data": {
      "text/plain": [
       "3"
      ]
     },
     "execution_count": 4,
     "metadata": {},
     "output_type": "execute_result"
    }
   ],
   "source": [
    "idx_tag"
   ]
  },
  {
   "cell_type": "code",
   "execution_count": 5,
   "id": "0ffec912",
   "metadata": {},
   "outputs": [
    {
     "data": {
      "text/plain": [
       "5"
      ]
     },
     "execution_count": 5,
     "metadata": {},
     "output_type": "execute_result"
    }
   ],
   "source": [
    "idx_page_1"
   ]
  },
  {
   "cell_type": "code",
   "execution_count": 6,
   "id": "af876780",
   "metadata": {
    "scrolled": false
   },
   "outputs": [
    {
     "data": {
      "text/plain": [
       "1"
      ]
     },
     "execution_count": 6,
     "metadata": {},
     "output_type": "execute_result"
    }
   ],
   "source": [
    "idx_pl"
   ]
  },
  {
   "cell_type": "code",
   "execution_count": 7,
   "id": "06895076",
   "metadata": {
    "scrolled": true
   },
   "outputs": [
    {
     "data": {
      "text/plain": [
       "5"
      ]
     },
     "execution_count": 7,
     "metadata": {},
     "output_type": "execute_result"
    }
   ],
   "source": [
    "page"
   ]
  },
  {
   "cell_type": "code",
   "execution_count": 8,
   "id": "2e64404e",
   "metadata": {},
   "outputs": [
    {
     "data": {
      "text/plain": [
       "3"
      ]
     },
     "execution_count": 8,
     "metadata": {},
     "output_type": "execute_result"
    }
   ],
   "source": [
    "idx_page_2"
   ]
  },
  {
   "cell_type": "code",
   "execution_count": 9,
   "id": "f522822d",
   "metadata": {
    "scrolled": true
   },
   "outputs": [
    {
     "data": {
      "text/plain": [
       "20"
      ]
     },
     "execution_count": 9,
     "metadata": {},
     "output_type": "execute_result"
    }
   ],
   "source": [
    "idx_list"
   ]
  },
  {
   "cell_type": "code",
   "execution_count": 69,
   "id": "90747bfb",
   "metadata": {},
   "outputs": [],
   "source": [
    "aa = 'ssss'+'Honolulu Swing'"
   ]
  },
  {
   "cell_type": "code",
   "execution_count": 70,
   "id": "83c22ed9",
   "metadata": {},
   "outputs": [
    {
     "data": {
      "text/plain": [
       "str"
      ]
     },
     "execution_count": 70,
     "metadata": {},
     "output_type": "execute_result"
    }
   ],
   "source": [
    "type(aa)"
   ]
  },
  {
   "cell_type": "code",
   "execution_count": null,
   "id": "2840b782",
   "metadata": {},
   "outputs": [],
   "source": []
  },
  {
   "cell_type": "code",
   "execution_count": 18,
   "id": "85fccca1",
   "metadata": {},
   "outputs": [],
   "source": [
    "import re"
   ]
  },
  {
   "cell_type": "code",
   "execution_count": 87,
   "id": "100e635d",
   "metadata": {},
   "outputs": [
    {
     "data": {
      "text/plain": [
       "'Honolulu Swing'"
      ]
     },
     "execution_count": 87,
     "metadata": {},
     "output_type": "execute_result"
    }
   ],
   "source": [
    "'Honolulu Swing'.replace(\"[^ㄱ-ㅎㅏ-ㅣ가-힣 ]\",\"\")"
   ]
  },
  {
   "cell_type": "code",
   "execution_count": 83,
   "id": "fbaa021a",
   "metadata": {},
   "outputs": [
    {
     "data": {
      "text/plain": [
       "'ssssHonolulu Swing'"
      ]
     },
     "execution_count": 83,
     "metadata": {},
     "output_type": "execute_result"
    }
   ],
   "source": [
    "a"
   ]
  },
  {
   "cell_type": "code",
   "execution_count": 94,
   "id": "106bece0",
   "metadata": {},
   "outputs": [],
   "source": [
    "hangul = re.compile('[^ㄱ-ㅣ가-힣]')"
   ]
  },
  {
   "cell_type": "code",
   "execution_count": null,
   "id": "a84ccd97",
   "metadata": {},
   "outputs": [],
   "source": [
    "hangul = re.compile('[^ㄱ-ㅣ가-힣]')"
   ]
  },
  {
   "cell_type": "code",
   "execution_count": 100,
   "id": "77b2a0a0",
   "metadata": {},
   "outputs": [
    {
     "data": {
      "text/plain": [
       "''"
      ]
     },
     "execution_count": 100,
     "metadata": {},
     "output_type": "execute_result"
    }
   ],
   "source": [
    "re.compile('[^ㄱ-ㅣ가-힣]').sub('', aa)"
   ]
  },
  {
   "cell_type": "code",
   "execution_count": 95,
   "id": "46eb77bc",
   "metadata": {},
   "outputs": [],
   "source": [
    "result = hangul.sub('', aa)"
   ]
  },
  {
   "cell_type": "code",
   "execution_count": 56,
   "id": "116abb77",
   "metadata": {},
   "outputs": [],
   "source": [
    "result = hangul.sub('', aa)"
   ]
  },
  {
   "cell_type": "code",
   "execution_count": 97,
   "id": "aa39e743",
   "metadata": {},
   "outputs": [
    {
     "data": {
      "text/plain": [
       "re.compile(r'[^ㄱ-ㅣ가-힣]', re.UNICODE)"
      ]
     },
     "execution_count": 97,
     "metadata": {},
     "output_type": "execute_result"
    }
   ],
   "source": [
    "re.compile('[^ㄱ-ㅣ가-힣]')"
   ]
  },
  {
   "cell_type": "code",
   "execution_count": 76,
   "id": "a980dd00",
   "metadata": {},
   "outputs": [
    {
     "data": {
      "text/plain": [
       "'ssssHonolulu Swing'"
      ]
     },
     "execution_count": 76,
     "metadata": {},
     "output_type": "execute_result"
    }
   ],
   "source": [
    "hangul.sub('', aa)"
   ]
  },
  {
   "cell_type": "code",
   "execution_count": 99,
   "id": "dbf54bf9",
   "metadata": {},
   "outputs": [
    {
     "name": "stdout",
     "output_type": "stream",
     "text": [
      "a\n"
     ]
    }
   ],
   "source": [
    "if result=='':\n",
    "    print('a')"
   ]
  }
 ],
 "metadata": {
  "kernelspec": {
   "display_name": "min",
   "language": "python",
   "name": "min"
  },
  "language_info": {
   "codemirror_mode": {
    "name": "ipython",
    "version": 3
   },
   "file_extension": ".py",
   "mimetype": "text/x-python",
   "name": "python",
   "nbconvert_exporter": "python",
   "pygments_lexer": "ipython3",
   "version": "3.9.16"
  }
 },
 "nbformat": 4,
 "nbformat_minor": 5
}
