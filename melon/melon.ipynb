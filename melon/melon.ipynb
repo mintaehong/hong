{
 "cells": [
  {
   "cell_type": "markdown",
   "id": "2bce87ae",
   "metadata": {},
   "source": [
    "2021.01 ~ 2022.10 멜론 월간 차트 탑 100 크롤링"
   ]
  },
  {
   "cell_type": "code",
   "execution_count": 57,
   "id": "1d55d359",
   "metadata": {},
   "outputs": [],
   "source": [
    "import pandas as pd\n",
    "import numpy as np\n",
    "from time import sleep\n",
    "from selenium import webdriver\n",
    "from selenium.webdriver.common.by import By\n",
    "from selenium.webdriver.common.keys import Keys"
   ]
  },
  {
   "cell_type": "code",
   "execution_count": 82,
   "id": "4e538b8f",
   "metadata": {
    "scrolled": true
   },
   "outputs": [
    {
     "name": "stderr",
     "output_type": "stream",
     "text": [
      "C:\\Users\\min\\AppData\\Local\\Temp/ipykernel_10132/671279928.py:15: DeprecationWarning: executable_path has been deprecated, please pass in a Service object\n",
      "  driver = webdriver.Chrome('C:/Users/min/chromedriver.exe', chrome_options=chrome_options)\n",
      "C:\\Users\\min\\AppData\\Local\\Temp/ipykernel_10132/671279928.py:15: DeprecationWarning: use options instead of chrome_options\n",
      "  driver = webdriver.Chrome('C:/Users/min/chromedriver.exe', chrome_options=chrome_options)\n"
     ]
    }
   ],
   "source": [
    "## 1. 멜론 월간 차트 탑 100 ------------------------------------------------------------------\n",
    "\n",
    "# 정보 저장할 리스트\n",
    "info = []\n",
    "\n",
    "# 크롬 드라이버 설정\n",
    "chrome_options = webdriver.ChromeOptions()\n",
    "chrome_options.add_argument(\"start-maximized\")\n",
    "driver = webdriver.Chrome('C:/Users/min/chromedriver.exe', chrome_options=chrome_options)\n",
    "url = 'https://www.melon.com/chart/month/index.htm'\n",
    "driver.get(url)\n",
    "\n",
    "# 월 변수\n",
    "month = 10\n",
    "\n",
    "# while문 끝내기 위한 변수\n",
    "w_break = 0\n",
    "\n",
    "# 멜론 월별 탑 100 정보 추출\n",
    "while True:\n",
    "    sleep(3)\n",
    "    # 년도 넘기기\n",
    "    if month == 0:\n",
    "        month = 12\n",
    "        driver.find_element(By.CSS_SELECTOR, f'#conts > div.calendar_prid > div > button').click()\n",
    "        driver.find_element(By.CSS_SELECTOR, f'#conts > div.calendar_prid > div > div > dl > dt > button.btn_round.small.pre').click()\n",
    "        driver.find_element(By.CSS_SELECTOR, f'#conts > div.calendar_prid > div > div > dl > dd.month_calendar > ul > li:nth-child({month}) > a > span').click()\n",
    "        w_break += 1\n",
    "        if w_break == 2:\n",
    "            break\n",
    "    else:\n",
    "        driver.find_element(By.CSS_SELECTOR, f'#conts > div.calendar_prid > div > button').click()\n",
    "    sleep(3)\n",
    "    try:\n",
    "        driver.find_element(By.CSS_SELECTOR, f'#conts > div.calendar_prid > div > div > dl > dd.month_calendar > ul > li:nth-child({month}) > a > span').click()\n",
    "        sleep(3)\n",
    "    except:\n",
    "        continue\n",
    "    for i in range(1,101):\n",
    "        rank = driver.find_element(By.CSS_SELECTOR, f'tbody > tr:nth-child({i}) > td:nth-child(2) > div > span.rank').text\n",
    "        driver.find_element(By.CSS_SELECTOR, f'tbody > tr:nth-child({i}) > td:nth-child(5) > div > a').click()\n",
    "        sleep(3)\n",
    "        title = driver.find_element(By.CSS_SELECTOR, f'#downloadfrm > div > div > div.entry > div.info > div.song_name').text\n",
    "        name = driver.find_element(By.CSS_SELECTOR, f'#downloadfrm > div > div > div.entry > div.info > div.artist > a > span:nth-child(1)').text\n",
    "        date = driver.find_element(By.CSS_SELECTOR, f'#downloadfrm > div > div > div.entry > div.meta > dl > dd:nth-child(4)').text\n",
    "        genre = driver.find_element(By.CSS_SELECTOR, f'#downloadfrm > div > div > div.entry > div.meta > dl > dd:nth-child(6)').text\n",
    "        driver.back()\n",
    "        info.append([rank,title,name, genre,date])\n",
    "    month -= 1\n",
    "driver.quit()\n",
    "\n",
    "# 차트 정보 저장\n",
    "chart_table = pd.DataFrame(info, columns=['순위','제목','가수','장르', '발매일'])\n",
    "chart_table.to_csv(f'C:\\\\Users\\\\min\\\\melon_rank.csv', index=False)"
   ]
  },
  {
   "cell_type": "code",
   "execution_count": 39,
   "id": "e08d2468",
   "metadata": {},
   "outputs": [
    {
     "name": "stderr",
     "output_type": "stream",
     "text": [
      "C:\\Users\\min\\AppData\\Local\\Temp/ipykernel_13600/29250580.py:5: DeprecationWarning: executable_path has been deprecated, please pass in a Service object\n",
      "  driver = webdriver.Chrome('C:/Users/min/chromedriver.exe', chrome_options=chrome_options)\n",
      "C:\\Users\\min\\AppData\\Local\\Temp/ipykernel_13600/29250580.py:5: DeprecationWarning: use options instead of chrome_options\n",
      "  driver = webdriver.Chrome('C:/Users/min/chromedriver.exe', chrome_options=chrome_options)\n"
     ]
    }
   ],
   "source": [
    "# 2. 차트에 포함 되어있는 가수의 추가 정보 추출 ----------------------------------------------\n",
    "\n",
    "chrome_options = webdriver.ChromeOptions()\n",
    "chrome_options.add_argument(\"start-maximized\")\n",
    "\n",
    "# 크롬 드라이버 설정\n",
    "driver = webdriver.Chrome('C:/Users/min/chromedriver.exe', chrome_options=chrome_options)\n",
    "url = 'https://www.melon.com/index.htm'\n",
    "driver.get(url)\n",
    "\n",
    "## 가수 소속사, 활동 유형 추출 EX) (여자)아이들, 큐브엔터테이먼트, 여자 그룹\n",
    "s_info = []\n",
    "for name in melon_chart['가수'].unique():\n",
    "    query = driver.find_element(By.CSS_SELECTOR,'#top_search')\n",
    "    query.send_keys(name)\n",
    "    query.send_keys(Keys.ENTER)\n",
    "    sleep(1)\n",
    "    ## 검색해도 나오지 않는 경우 처리\n",
    "    try:\n",
    "        category = driver.find_element(By.CSS_SELECTOR, f'#conts > div.section_atist > div.wrap_cntt.clfix.d_artist_list > div.atist_dtl_info > dl > dd:nth-child(4)').text\n",
    "    except:\n",
    "        category, company = '', ''\n",
    "        s_info.append([name, category, company])\n",
    "        driver.find_element(By.CSS_SELECTOR,'#top_search').clear()\n",
    "        continue\n",
    "    driver.find_element(By.CSS_SELECTOR, f'#conts > div.section_atist > div.wrap_cntt.clfix.d_artist_list > div.atist_dtl_info > div > a').click()\n",
    "    sleep(1)\n",
    "    # 소속사가 명시 되지 않은 경우 처리\n",
    "    try:\n",
    "        company = driver.find_element(By.XPATH, f'//dt[contains(text(), \"소속사\")]/following-sibling::dd').text\n",
    "    except:\n",
    "        company = ''\n",
    "    s_info.append([name, category, company])\n",
    "driver.quit()\n",
    "\n",
    "## 가수 정보 저장\n",
    "singer_table = pd.DataFrame(s_info,columns = ['가수', '활동유형', '소속사'])\n",
    "singer_table.to_csv(f'C:\\\\Users\\\\min\\\\singer_table.csv', index=False)"
   ]
  },
  {
   "cell_type": "code",
   "execution_count": 77,
   "id": "88dcb66a",
   "metadata": {},
   "outputs": [],
   "source": [
    "# 3. 소속사의 모회사 추출 ----------------------------------------------------------------------\n",
    "company_table = pd.DataFrame(singer_table['소속사'].unique(),columns=['소속사'])\n",
    "\n",
    "chrome_options = webdriver.ChromeOptions()\n",
    "chrome_options.add_argument(\"start-maximized\")\n",
    "driver = webdriver.Chrome('C:/Users/min/chromedriver.exe', chrome_options=chrome_options)\n",
    "url = 'https://www.google.com/'\n",
    "driver.get(url)\n",
    "\n",
    "sleep(2)\n",
    "\n",
    "## 소속사의 상위 회사 정보 추출\n",
    "com_info = []\n",
    "for com in singer_table['소속사'].unique():\n",
    "    query = driver.find_element(By.CSS_SELECTOR,'div.a4bIc > input')\n",
    "    query.send_keys(com)\n",
    "    query.send_keys(Keys.ENTER)\n",
    "    sleep(2)\n",
    "    ## 상위 회사의 정보가 소유자, 모회자 두가지 경우로 명시\n",
    "    try:\n",
    "        company = driver.find_element(By.XPATH, f'//a[@class=\"fl\"][contains(text(), \"소유자\")]/following::a[@class=\"fl\"]').text\n",
    "    except:\n",
    "        try:\n",
    "            company = driver.find_element(By.XPATH, f'//a[@class=\"fl\"][contains(text(), \"모회사\")]/following::a[@class=\"fl\"]').text\n",
    "        except:\n",
    "            company = com\n",
    "    com_info.append(company)\n",
    "    driver.find_element(By.CSS_SELECTOR,'div.a4bIc > input').clear()\n",
    "driver.quit()\n",
    "\n",
    "## 모회사 정보 저장\n",
    "company_table['모회사'] = com_info\n",
    "company_table.to_csv(f'C:\\\\Users\\\\min\\\\company_table.csv', index=False)"
   ]
  }
 ],
 "metadata": {
  "kernelspec": {
   "display_name": "exkernel",
   "language": "python",
   "name": "ex"
  },
  "language_info": {
   "codemirror_mode": {
    "name": "ipython",
    "version": 3
   },
   "file_extension": ".py",
   "mimetype": "text/x-python",
   "name": "python",
   "nbconvert_exporter": "python",
   "pygments_lexer": "ipython3",
   "version": "3.9.7"
  }
 },
 "nbformat": 4,
 "nbformat_minor": 5
}
